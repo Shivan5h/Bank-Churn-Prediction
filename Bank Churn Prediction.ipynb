{
 "cells": [
  {
   "cell_type": "code",
   "execution_count": 2,
   "id": "439a61c5",
   "metadata": {
    "ExecuteTime": {
     "end_time": "2024-08-17T11:13:22.260185Z",
     "start_time": "2024-08-17T11:13:22.164212Z"
    },
    "_cell_guid": "b1076dfc-b9ad-4769-8c92-a6c4dae69d19",
    "_uuid": "8f2839f25d086af736a60e9eeb907d3b93b6e0e5",
    "execution": {
     "iopub.execute_input": "2024-06-22T20:37:42.396604Z",
     "iopub.status.busy": "2024-06-22T20:37:42.396164Z",
     "iopub.status.idle": "2024-06-22T20:37:43.386839Z",
     "shell.execute_reply": "2024-06-22T20:37:43.385430Z"
    },
    "papermill": {
     "duration": 1.008775,
     "end_time": "2024-06-22T20:37:43.389543",
     "exception": false,
     "start_time": "2024-06-22T20:37:42.380768",
     "status": "completed"
    },
    "tags": []
   },
   "outputs": [],
   "source": [
    "import numpy as np\n",
    "import pandas as pd\n",
    "from sklearn.model_selection import train_test_split\n",
    "from sklearn.preprocessing import StandardScaler\n",
    "from tensorflow import keras\n",
    "from tensorflow.keras import Sequential\n",
    "from tensorflow.keras.layers import Dense\n",
    "from sklearn.metrics import accuracy_score"
   ]
  },
  {
   "cell_type": "code",
   "execution_count": 3,
   "id": "1434c178",
   "metadata": {
    "ExecuteTime": {
     "start_time": "2024-08-17T10:52:15.154592Z"
    },
    "execution": {
     "iopub.execute_input": "2024-06-22T20:37:43.418376Z",
     "iopub.status.busy": "2024-06-22T20:37:43.417779Z",
     "iopub.status.idle": "2024-06-22T20:37:43.505232Z",
     "shell.execute_reply": "2024-06-22T20:37:43.503838Z"
    },
    "papermill": {
     "duration": 0.105863,
     "end_time": "2024-06-22T20:37:43.508932",
     "exception": false,
     "start_time": "2024-06-22T20:37:43.403069",
     "status": "completed"
    },
    "tags": []
   },
   "outputs": [
    {
     "data": {
      "text/html": [
       "<div>\n",
       "<style scoped>\n",
       "    .dataframe tbody tr th:only-of-type {\n",
       "        vertical-align: middle;\n",
       "    }\n",
       "\n",
       "    .dataframe tbody tr th {\n",
       "        vertical-align: top;\n",
       "    }\n",
       "\n",
       "    .dataframe thead th {\n",
       "        text-align: right;\n",
       "    }\n",
       "</style>\n",
       "<table border=\"1\" class=\"dataframe\">\n",
       "  <thead>\n",
       "    <tr style=\"text-align: right;\">\n",
       "      <th></th>\n",
       "      <th>RowNumber</th>\n",
       "      <th>CustomerId</th>\n",
       "      <th>Surname</th>\n",
       "      <th>CreditScore</th>\n",
       "      <th>Geography</th>\n",
       "      <th>Gender</th>\n",
       "      <th>Age</th>\n",
       "      <th>Tenure</th>\n",
       "      <th>Balance</th>\n",
       "      <th>NumOfProducts</th>\n",
       "      <th>HasCrCard</th>\n",
       "      <th>IsActiveMember</th>\n",
       "      <th>EstimatedSalary</th>\n",
       "      <th>Exited</th>\n",
       "    </tr>\n",
       "  </thead>\n",
       "  <tbody>\n",
       "    <tr>\n",
       "      <th>0</th>\n",
       "      <td>1</td>\n",
       "      <td>15634602</td>\n",
       "      <td>Hargrave</td>\n",
       "      <td>619</td>\n",
       "      <td>France</td>\n",
       "      <td>Female</td>\n",
       "      <td>42</td>\n",
       "      <td>2</td>\n",
       "      <td>0.00</td>\n",
       "      <td>1</td>\n",
       "      <td>1</td>\n",
       "      <td>1</td>\n",
       "      <td>101348.88</td>\n",
       "      <td>1</td>\n",
       "    </tr>\n",
       "    <tr>\n",
       "      <th>1</th>\n",
       "      <td>2</td>\n",
       "      <td>15647311</td>\n",
       "      <td>Hill</td>\n",
       "      <td>608</td>\n",
       "      <td>Spain</td>\n",
       "      <td>Female</td>\n",
       "      <td>41</td>\n",
       "      <td>1</td>\n",
       "      <td>83807.86</td>\n",
       "      <td>1</td>\n",
       "      <td>0</td>\n",
       "      <td>1</td>\n",
       "      <td>112542.58</td>\n",
       "      <td>0</td>\n",
       "    </tr>\n",
       "    <tr>\n",
       "      <th>2</th>\n",
       "      <td>3</td>\n",
       "      <td>15619304</td>\n",
       "      <td>Onio</td>\n",
       "      <td>502</td>\n",
       "      <td>France</td>\n",
       "      <td>Female</td>\n",
       "      <td>42</td>\n",
       "      <td>8</td>\n",
       "      <td>159660.80</td>\n",
       "      <td>3</td>\n",
       "      <td>1</td>\n",
       "      <td>0</td>\n",
       "      <td>113931.57</td>\n",
       "      <td>1</td>\n",
       "    </tr>\n",
       "    <tr>\n",
       "      <th>3</th>\n",
       "      <td>4</td>\n",
       "      <td>15701354</td>\n",
       "      <td>Boni</td>\n",
       "      <td>699</td>\n",
       "      <td>France</td>\n",
       "      <td>Female</td>\n",
       "      <td>39</td>\n",
       "      <td>1</td>\n",
       "      <td>0.00</td>\n",
       "      <td>2</td>\n",
       "      <td>0</td>\n",
       "      <td>0</td>\n",
       "      <td>93826.63</td>\n",
       "      <td>0</td>\n",
       "    </tr>\n",
       "    <tr>\n",
       "      <th>4</th>\n",
       "      <td>5</td>\n",
       "      <td>15737888</td>\n",
       "      <td>Mitchell</td>\n",
       "      <td>850</td>\n",
       "      <td>Spain</td>\n",
       "      <td>Female</td>\n",
       "      <td>43</td>\n",
       "      <td>2</td>\n",
       "      <td>125510.82</td>\n",
       "      <td>1</td>\n",
       "      <td>1</td>\n",
       "      <td>1</td>\n",
       "      <td>79084.10</td>\n",
       "      <td>0</td>\n",
       "    </tr>\n",
       "  </tbody>\n",
       "</table>\n",
       "</div>"
      ],
      "text/plain": [
       "   RowNumber  CustomerId   Surname  CreditScore Geography  Gender  Age  \\\n",
       "0          1    15634602  Hargrave          619    France  Female   42   \n",
       "1          2    15647311      Hill          608     Spain  Female   41   \n",
       "2          3    15619304      Onio          502    France  Female   42   \n",
       "3          4    15701354      Boni          699    France  Female   39   \n",
       "4          5    15737888  Mitchell          850     Spain  Female   43   \n",
       "\n",
       "   Tenure    Balance  NumOfProducts  HasCrCard  IsActiveMember  \\\n",
       "0       2       0.00              1          1               1   \n",
       "1       1   83807.86              1          0               1   \n",
       "2       8  159660.80              3          1               0   \n",
       "3       1       0.00              2          0               0   \n",
       "4       2  125510.82              1          1               1   \n",
       "\n",
       "   EstimatedSalary  Exited  \n",
       "0        101348.88       1  \n",
       "1        112542.58       0  \n",
       "2        113931.57       1  \n",
       "3         93826.63       0  \n",
       "4         79084.10       0  "
      ]
     },
     "execution_count": 3,
     "metadata": {},
     "output_type": "execute_result"
    }
   ],
   "source": [
    "df = pd.read_csv(\"Churn_Modelling.csv\")\n",
    "df.head()"
   ]
  },
  {
   "cell_type": "code",
   "execution_count": 4,
   "id": "ccfa85b8",
   "metadata": {
    "ExecuteTime": {
     "start_time": "2024-08-17T10:52:15.157173Z"
    },
    "execution": {
     "iopub.execute_input": "2024-06-22T20:37:43.538256Z",
     "iopub.status.busy": "2024-06-22T20:37:43.537803Z",
     "iopub.status.idle": "2024-06-22T20:37:43.569847Z",
     "shell.execute_reply": "2024-06-22T20:37:43.568688Z"
    },
    "papermill": {
     "duration": 0.050397,
     "end_time": "2024-06-22T20:37:43.573081",
     "exception": false,
     "start_time": "2024-06-22T20:37:43.522684",
     "status": "completed"
    },
    "tags": []
   },
   "outputs": [
    {
     "name": "stdout",
     "output_type": "stream",
     "text": [
      "<class 'pandas.core.frame.DataFrame'>\n",
      "RangeIndex: 10000 entries, 0 to 9999\n",
      "Data columns (total 14 columns):\n",
      " #   Column           Non-Null Count  Dtype  \n",
      "---  ------           --------------  -----  \n",
      " 0   RowNumber        10000 non-null  int64  \n",
      " 1   CustomerId       10000 non-null  int64  \n",
      " 2   Surname          10000 non-null  object \n",
      " 3   CreditScore      10000 non-null  int64  \n",
      " 4   Geography        10000 non-null  object \n",
      " 5   Gender           10000 non-null  object \n",
      " 6   Age              10000 non-null  int64  \n",
      " 7   Tenure           10000 non-null  int64  \n",
      " 8   Balance          10000 non-null  float64\n",
      " 9   NumOfProducts    10000 non-null  int64  \n",
      " 10  HasCrCard        10000 non-null  int64  \n",
      " 11  IsActiveMember   10000 non-null  int64  \n",
      " 12  EstimatedSalary  10000 non-null  float64\n",
      " 13  Exited           10000 non-null  int64  \n",
      "dtypes: float64(2), int64(9), object(3)\n",
      "memory usage: 1.1+ MB\n"
     ]
    }
   ],
   "source": [
    "df.info()"
   ]
  },
  {
   "cell_type": "code",
   "execution_count": 5,
   "id": "bd9ea666",
   "metadata": {
    "ExecuteTime": {
     "start_time": "2024-08-17T10:52:15.159140Z"
    },
    "execution": {
     "iopub.execute_input": "2024-06-22T20:37:43.603597Z",
     "iopub.status.busy": "2024-06-22T20:37:43.603129Z",
     "iopub.status.idle": "2024-06-22T20:37:43.613249Z",
     "shell.execute_reply": "2024-06-22T20:37:43.611942Z"
    },
    "papermill": {
     "duration": 0.028624,
     "end_time": "2024-06-22T20:37:43.616200",
     "exception": false,
     "start_time": "2024-06-22T20:37:43.587576",
     "status": "completed"
    },
    "tags": []
   },
   "outputs": [],
   "source": [
    "df.drop(columns=['RowNumber','CustomerId','Surname'], inplace=True)"
   ]
  },
  {
   "cell_type": "code",
   "execution_count": 6,
   "id": "91207697",
   "metadata": {
    "execution": {
     "iopub.execute_input": "2024-06-22T20:37:43.646450Z",
     "iopub.status.busy": "2024-06-22T20:37:43.646015Z",
     "iopub.status.idle": "2024-06-22T20:37:43.671209Z",
     "shell.execute_reply": "2024-06-22T20:37:43.669993Z"
    },
    "papermill": {
     "duration": 0.043713,
     "end_time": "2024-06-22T20:37:43.673789",
     "exception": false,
     "start_time": "2024-06-22T20:37:43.630076",
     "status": "completed"
    },
    "tags": []
   },
   "outputs": [
    {
     "data": {
      "text/html": [
       "<div>\n",
       "<style scoped>\n",
       "    .dataframe tbody tr th:only-of-type {\n",
       "        vertical-align: middle;\n",
       "    }\n",
       "\n",
       "    .dataframe tbody tr th {\n",
       "        vertical-align: top;\n",
       "    }\n",
       "\n",
       "    .dataframe thead th {\n",
       "        text-align: right;\n",
       "    }\n",
       "</style>\n",
       "<table border=\"1\" class=\"dataframe\">\n",
       "  <thead>\n",
       "    <tr style=\"text-align: right;\">\n",
       "      <th></th>\n",
       "      <th>CreditScore</th>\n",
       "      <th>Geography</th>\n",
       "      <th>Gender</th>\n",
       "      <th>Age</th>\n",
       "      <th>Tenure</th>\n",
       "      <th>Balance</th>\n",
       "      <th>NumOfProducts</th>\n",
       "      <th>HasCrCard</th>\n",
       "      <th>IsActiveMember</th>\n",
       "      <th>EstimatedSalary</th>\n",
       "      <th>Exited</th>\n",
       "    </tr>\n",
       "  </thead>\n",
       "  <tbody>\n",
       "    <tr>\n",
       "      <th>0</th>\n",
       "      <td>619</td>\n",
       "      <td>France</td>\n",
       "      <td>Female</td>\n",
       "      <td>42</td>\n",
       "      <td>2</td>\n",
       "      <td>0.00</td>\n",
       "      <td>1</td>\n",
       "      <td>1</td>\n",
       "      <td>1</td>\n",
       "      <td>101348.88</td>\n",
       "      <td>1</td>\n",
       "    </tr>\n",
       "    <tr>\n",
       "      <th>1</th>\n",
       "      <td>608</td>\n",
       "      <td>Spain</td>\n",
       "      <td>Female</td>\n",
       "      <td>41</td>\n",
       "      <td>1</td>\n",
       "      <td>83807.86</td>\n",
       "      <td>1</td>\n",
       "      <td>0</td>\n",
       "      <td>1</td>\n",
       "      <td>112542.58</td>\n",
       "      <td>0</td>\n",
       "    </tr>\n",
       "    <tr>\n",
       "      <th>2</th>\n",
       "      <td>502</td>\n",
       "      <td>France</td>\n",
       "      <td>Female</td>\n",
       "      <td>42</td>\n",
       "      <td>8</td>\n",
       "      <td>159660.80</td>\n",
       "      <td>3</td>\n",
       "      <td>1</td>\n",
       "      <td>0</td>\n",
       "      <td>113931.57</td>\n",
       "      <td>1</td>\n",
       "    </tr>\n",
       "    <tr>\n",
       "      <th>3</th>\n",
       "      <td>699</td>\n",
       "      <td>France</td>\n",
       "      <td>Female</td>\n",
       "      <td>39</td>\n",
       "      <td>1</td>\n",
       "      <td>0.00</td>\n",
       "      <td>2</td>\n",
       "      <td>0</td>\n",
       "      <td>0</td>\n",
       "      <td>93826.63</td>\n",
       "      <td>0</td>\n",
       "    </tr>\n",
       "    <tr>\n",
       "      <th>4</th>\n",
       "      <td>850</td>\n",
       "      <td>Spain</td>\n",
       "      <td>Female</td>\n",
       "      <td>43</td>\n",
       "      <td>2</td>\n",
       "      <td>125510.82</td>\n",
       "      <td>1</td>\n",
       "      <td>1</td>\n",
       "      <td>1</td>\n",
       "      <td>79084.10</td>\n",
       "      <td>0</td>\n",
       "    </tr>\n",
       "  </tbody>\n",
       "</table>\n",
       "</div>"
      ],
      "text/plain": [
       "   CreditScore Geography  Gender  Age  Tenure    Balance  NumOfProducts  \\\n",
       "0          619    France  Female   42       2       0.00              1   \n",
       "1          608     Spain  Female   41       1   83807.86              1   \n",
       "2          502    France  Female   42       8  159660.80              3   \n",
       "3          699    France  Female   39       1       0.00              2   \n",
       "4          850     Spain  Female   43       2  125510.82              1   \n",
       "\n",
       "   HasCrCard  IsActiveMember  EstimatedSalary  Exited  \n",
       "0          1               1        101348.88       1  \n",
       "1          0               1        112542.58       0  \n",
       "2          1               0        113931.57       1  \n",
       "3          0               0         93826.63       0  \n",
       "4          1               1         79084.10       0  "
      ]
     },
     "execution_count": 6,
     "metadata": {},
     "output_type": "execute_result"
    }
   ],
   "source": [
    "df.head()"
   ]
  },
  {
   "cell_type": "code",
   "execution_count": 7,
   "id": "bfc874a1",
   "metadata": {
    "ExecuteTime": {
     "end_time": "2024-08-17T10:52:15.202489Z",
     "start_time": "2024-08-17T10:52:15.172792Z"
    },
    "execution": {
     "iopub.execute_input": "2024-06-22T20:37:43.704749Z",
     "iopub.status.busy": "2024-06-22T20:37:43.704323Z",
     "iopub.status.idle": "2024-06-22T20:37:43.712280Z",
     "shell.execute_reply": "2024-06-22T20:37:43.711033Z"
    },
    "papermill": {
     "duration": 0.026833,
     "end_time": "2024-06-22T20:37:43.714959",
     "exception": false,
     "start_time": "2024-06-22T20:37:43.688126",
     "status": "completed"
    },
    "tags": []
   },
   "outputs": [
    {
     "data": {
      "text/plain": [
       "(10000, 11)"
      ]
     },
     "execution_count": 7,
     "metadata": {},
     "output_type": "execute_result"
    }
   ],
   "source": [
    "df.shape"
   ]
  },
  {
   "cell_type": "code",
   "execution_count": 8,
   "id": "2b00ac4f",
   "metadata": {
    "ExecuteTime": {
     "start_time": "2024-08-17T10:52:15.205508Z"
    },
    "execution": {
     "iopub.execute_input": "2024-06-22T20:37:43.745910Z",
     "iopub.status.busy": "2024-06-22T20:37:43.745512Z",
     "iopub.status.idle": "2024-06-22T20:37:43.760572Z",
     "shell.execute_reply": "2024-06-22T20:37:43.759394Z"
    },
    "papermill": {
     "duration": 0.034141,
     "end_time": "2024-06-22T20:37:43.763673",
     "exception": false,
     "start_time": "2024-06-22T20:37:43.729532",
     "status": "completed"
    },
    "tags": []
   },
   "outputs": [
    {
     "data": {
      "text/plain": [
       "0"
      ]
     },
     "execution_count": 8,
     "metadata": {},
     "output_type": "execute_result"
    }
   ],
   "source": [
    "df.duplicated().sum()"
   ]
  },
  {
   "cell_type": "code",
   "execution_count": 9,
   "id": "3a5d5ff6",
   "metadata": {
    "ExecuteTime": {
     "end_time": "2024-08-17T10:52:15.548071Z",
     "start_time": "2024-08-17T10:52:15.520210Z"
    },
    "execution": {
     "iopub.execute_input": "2024-06-22T20:37:43.796487Z",
     "iopub.status.busy": "2024-06-22T20:37:43.796023Z",
     "iopub.status.idle": "2024-06-22T20:37:43.808755Z",
     "shell.execute_reply": "2024-06-22T20:37:43.807122Z"
    },
    "papermill": {
     "duration": 0.03241,
     "end_time": "2024-06-22T20:37:43.811318",
     "exception": false,
     "start_time": "2024-06-22T20:37:43.778908",
     "status": "completed"
    },
    "tags": []
   },
   "outputs": [
    {
     "data": {
      "text/plain": [
       "0    7963\n",
       "1    2037\n",
       "Name: Exited, dtype: int64"
      ]
     },
     "execution_count": 9,
     "metadata": {},
     "output_type": "execute_result"
    }
   ],
   "source": [
    "df.Exited.value_counts()"
   ]
  },
  {
   "cell_type": "code",
   "execution_count": 10,
   "id": "4375f85f",
   "metadata": {
    "ExecuteTime": {
     "end_time": "2024-08-17T10:52:15.682893Z",
     "start_time": "2024-08-17T10:52:15.654692Z"
    },
    "execution": {
     "iopub.execute_input": "2024-06-22T20:37:43.843120Z",
     "iopub.status.busy": "2024-06-22T20:37:43.842746Z",
     "iopub.status.idle": "2024-06-22T20:37:43.853466Z",
     "shell.execute_reply": "2024-06-22T20:37:43.852232Z"
    },
    "papermill": {
     "duration": 0.030076,
     "end_time": "2024-06-22T20:37:43.855935",
     "exception": false,
     "start_time": "2024-06-22T20:37:43.825859",
     "status": "completed"
    },
    "tags": []
   },
   "outputs": [
    {
     "data": {
      "text/plain": [
       "France     5014\n",
       "Germany    2509\n",
       "Spain      2477\n",
       "Name: Geography, dtype: int64"
      ]
     },
     "execution_count": 10,
     "metadata": {},
     "output_type": "execute_result"
    }
   ],
   "source": [
    "df.Geography.value_counts()"
   ]
  },
  {
   "cell_type": "code",
   "execution_count": 11,
   "id": "32e712b9",
   "metadata": {
    "ExecuteTime": {
     "end_time": "2024-08-17T10:52:15.747186Z",
     "start_time": "2024-08-17T10:52:15.718476Z"
    },
    "execution": {
     "iopub.execute_input": "2024-06-22T20:37:43.888587Z",
     "iopub.status.busy": "2024-06-22T20:37:43.888185Z",
     "iopub.status.idle": "2024-06-22T20:37:43.898720Z",
     "shell.execute_reply": "2024-06-22T20:37:43.897660Z"
    },
    "papermill": {
     "duration": 0.029729,
     "end_time": "2024-06-22T20:37:43.901374",
     "exception": false,
     "start_time": "2024-06-22T20:37:43.871645",
     "status": "completed"
    },
    "tags": []
   },
   "outputs": [
    {
     "data": {
      "text/plain": [
       "Male      5457\n",
       "Female    4543\n",
       "Name: Gender, dtype: int64"
      ]
     },
     "execution_count": 11,
     "metadata": {},
     "output_type": "execute_result"
    }
   ],
   "source": [
    "df.Gender.value_counts()"
   ]
  },
  {
   "cell_type": "code",
   "execution_count": 12,
   "id": "4ce8082d",
   "metadata": {
    "ExecuteTime": {
     "end_time": "2024-08-17T10:52:15.889963Z",
     "start_time": "2024-08-17T10:52:15.860541Z"
    },
    "execution": {
     "iopub.execute_input": "2024-06-22T20:37:43.935040Z",
     "iopub.status.busy": "2024-06-22T20:37:43.934605Z",
     "iopub.status.idle": "2024-06-22T20:37:43.955816Z",
     "shell.execute_reply": "2024-06-22T20:37:43.954602Z"
    },
    "papermill": {
     "duration": 0.041341,
     "end_time": "2024-06-22T20:37:43.958132",
     "exception": false,
     "start_time": "2024-06-22T20:37:43.916791",
     "status": "completed"
    },
    "tags": []
   },
   "outputs": [
    {
     "data": {
      "text/html": [
       "<div>\n",
       "<style scoped>\n",
       "    .dataframe tbody tr th:only-of-type {\n",
       "        vertical-align: middle;\n",
       "    }\n",
       "\n",
       "    .dataframe tbody tr th {\n",
       "        vertical-align: top;\n",
       "    }\n",
       "\n",
       "    .dataframe thead th {\n",
       "        text-align: right;\n",
       "    }\n",
       "</style>\n",
       "<table border=\"1\" class=\"dataframe\">\n",
       "  <thead>\n",
       "    <tr style=\"text-align: right;\">\n",
       "      <th></th>\n",
       "      <th>CreditScore</th>\n",
       "      <th>Geography</th>\n",
       "      <th>Gender</th>\n",
       "      <th>Age</th>\n",
       "      <th>Tenure</th>\n",
       "      <th>Balance</th>\n",
       "      <th>NumOfProducts</th>\n",
       "      <th>HasCrCard</th>\n",
       "      <th>IsActiveMember</th>\n",
       "      <th>EstimatedSalary</th>\n",
       "      <th>Exited</th>\n",
       "    </tr>\n",
       "  </thead>\n",
       "  <tbody>\n",
       "    <tr>\n",
       "      <th>0</th>\n",
       "      <td>619</td>\n",
       "      <td>France</td>\n",
       "      <td>Female</td>\n",
       "      <td>42</td>\n",
       "      <td>2</td>\n",
       "      <td>0.00</td>\n",
       "      <td>1</td>\n",
       "      <td>1</td>\n",
       "      <td>1</td>\n",
       "      <td>101348.88</td>\n",
       "      <td>1</td>\n",
       "    </tr>\n",
       "    <tr>\n",
       "      <th>1</th>\n",
       "      <td>608</td>\n",
       "      <td>Spain</td>\n",
       "      <td>Female</td>\n",
       "      <td>41</td>\n",
       "      <td>1</td>\n",
       "      <td>83807.86</td>\n",
       "      <td>1</td>\n",
       "      <td>0</td>\n",
       "      <td>1</td>\n",
       "      <td>112542.58</td>\n",
       "      <td>0</td>\n",
       "    </tr>\n",
       "    <tr>\n",
       "      <th>2</th>\n",
       "      <td>502</td>\n",
       "      <td>France</td>\n",
       "      <td>Female</td>\n",
       "      <td>42</td>\n",
       "      <td>8</td>\n",
       "      <td>159660.80</td>\n",
       "      <td>3</td>\n",
       "      <td>1</td>\n",
       "      <td>0</td>\n",
       "      <td>113931.57</td>\n",
       "      <td>1</td>\n",
       "    </tr>\n",
       "    <tr>\n",
       "      <th>3</th>\n",
       "      <td>699</td>\n",
       "      <td>France</td>\n",
       "      <td>Female</td>\n",
       "      <td>39</td>\n",
       "      <td>1</td>\n",
       "      <td>0.00</td>\n",
       "      <td>2</td>\n",
       "      <td>0</td>\n",
       "      <td>0</td>\n",
       "      <td>93826.63</td>\n",
       "      <td>0</td>\n",
       "    </tr>\n",
       "    <tr>\n",
       "      <th>4</th>\n",
       "      <td>850</td>\n",
       "      <td>Spain</td>\n",
       "      <td>Female</td>\n",
       "      <td>43</td>\n",
       "      <td>2</td>\n",
       "      <td>125510.82</td>\n",
       "      <td>1</td>\n",
       "      <td>1</td>\n",
       "      <td>1</td>\n",
       "      <td>79084.10</td>\n",
       "      <td>0</td>\n",
       "    </tr>\n",
       "  </tbody>\n",
       "</table>\n",
       "</div>"
      ],
      "text/plain": [
       "   CreditScore Geography  Gender  Age  Tenure    Balance  NumOfProducts  \\\n",
       "0          619    France  Female   42       2       0.00              1   \n",
       "1          608     Spain  Female   41       1   83807.86              1   \n",
       "2          502    France  Female   42       8  159660.80              3   \n",
       "3          699    France  Female   39       1       0.00              2   \n",
       "4          850     Spain  Female   43       2  125510.82              1   \n",
       "\n",
       "   HasCrCard  IsActiveMember  EstimatedSalary  Exited  \n",
       "0          1               1        101348.88       1  \n",
       "1          0               1        112542.58       0  \n",
       "2          1               0        113931.57       1  \n",
       "3          0               0         93826.63       0  \n",
       "4          1               1         79084.10       0  "
      ]
     },
     "execution_count": 12,
     "metadata": {},
     "output_type": "execute_result"
    }
   ],
   "source": [
    "df.head()"
   ]
  },
  {
   "cell_type": "code",
   "execution_count": 13,
   "id": "bc6a7737",
   "metadata": {
    "ExecuteTime": {
     "end_time": "2024-08-17T10:52:16.010966Z",
     "start_time": "2024-08-17T10:52:15.968983Z"
    },
    "execution": {
     "iopub.execute_input": "2024-06-22T20:37:43.991239Z",
     "iopub.status.busy": "2024-06-22T20:37:43.990804Z",
     "iopub.status.idle": "2024-06-22T20:37:44.002281Z",
     "shell.execute_reply": "2024-06-22T20:37:44.001103Z"
    },
    "papermill": {
     "duration": 0.031366,
     "end_time": "2024-06-22T20:37:44.004863",
     "exception": false,
     "start_time": "2024-06-22T20:37:43.973497",
     "status": "completed"
    },
    "tags": []
   },
   "outputs": [
    {
     "data": {
      "text/plain": [
       "0       0\n",
       "1       0\n",
       "2       0\n",
       "3       0\n",
       "4       0\n",
       "       ..\n",
       "9995    1\n",
       "9996    1\n",
       "9997    0\n",
       "9998    1\n",
       "9999    0\n",
       "Name: Gender, Length: 10000, dtype: int64"
      ]
     },
     "execution_count": 13,
     "metadata": {},
     "output_type": "execute_result"
    }
   ],
   "source": [
    "df['Gender'].map({\"Female\":0,\"Male\":1})"
   ]
  },
  {
   "cell_type": "code",
   "execution_count": 14,
   "id": "5e36cc29",
   "metadata": {
    "ExecuteTime": {
     "end_time": "2024-08-17T10:52:16.076774Z",
     "start_time": "2024-08-17T10:52:16.047728Z"
    },
    "execution": {
     "iopub.execute_input": "2024-06-22T20:37:44.038034Z",
     "iopub.status.busy": "2024-06-22T20:37:44.037614Z",
     "iopub.status.idle": "2024-06-22T20:37:44.062468Z",
     "shell.execute_reply": "2024-06-22T20:37:44.061218Z"
    },
    "papermill": {
     "duration": 0.044968,
     "end_time": "2024-06-22T20:37:44.065313",
     "exception": false,
     "start_time": "2024-06-22T20:37:44.020345",
     "status": "completed"
    },
    "tags": []
   },
   "outputs": [
    {
     "data": {
      "text/html": [
       "<div>\n",
       "<style scoped>\n",
       "    .dataframe tbody tr th:only-of-type {\n",
       "        vertical-align: middle;\n",
       "    }\n",
       "\n",
       "    .dataframe tbody tr th {\n",
       "        vertical-align: top;\n",
       "    }\n",
       "\n",
       "    .dataframe thead th {\n",
       "        text-align: right;\n",
       "    }\n",
       "</style>\n",
       "<table border=\"1\" class=\"dataframe\">\n",
       "  <thead>\n",
       "    <tr style=\"text-align: right;\">\n",
       "      <th></th>\n",
       "      <th>CreditScore</th>\n",
       "      <th>Geography</th>\n",
       "      <th>Gender</th>\n",
       "      <th>Age</th>\n",
       "      <th>Tenure</th>\n",
       "      <th>Balance</th>\n",
       "      <th>NumOfProducts</th>\n",
       "      <th>HasCrCard</th>\n",
       "      <th>IsActiveMember</th>\n",
       "      <th>EstimatedSalary</th>\n",
       "      <th>Exited</th>\n",
       "    </tr>\n",
       "  </thead>\n",
       "  <tbody>\n",
       "    <tr>\n",
       "      <th>0</th>\n",
       "      <td>619</td>\n",
       "      <td>France</td>\n",
       "      <td>0</td>\n",
       "      <td>42</td>\n",
       "      <td>2</td>\n",
       "      <td>0.00</td>\n",
       "      <td>1</td>\n",
       "      <td>1</td>\n",
       "      <td>1</td>\n",
       "      <td>101348.88</td>\n",
       "      <td>1</td>\n",
       "    </tr>\n",
       "    <tr>\n",
       "      <th>1</th>\n",
       "      <td>608</td>\n",
       "      <td>Spain</td>\n",
       "      <td>0</td>\n",
       "      <td>41</td>\n",
       "      <td>1</td>\n",
       "      <td>83807.86</td>\n",
       "      <td>1</td>\n",
       "      <td>0</td>\n",
       "      <td>1</td>\n",
       "      <td>112542.58</td>\n",
       "      <td>0</td>\n",
       "    </tr>\n",
       "    <tr>\n",
       "      <th>2</th>\n",
       "      <td>502</td>\n",
       "      <td>France</td>\n",
       "      <td>0</td>\n",
       "      <td>42</td>\n",
       "      <td>8</td>\n",
       "      <td>159660.80</td>\n",
       "      <td>3</td>\n",
       "      <td>1</td>\n",
       "      <td>0</td>\n",
       "      <td>113931.57</td>\n",
       "      <td>1</td>\n",
       "    </tr>\n",
       "    <tr>\n",
       "      <th>3</th>\n",
       "      <td>699</td>\n",
       "      <td>France</td>\n",
       "      <td>0</td>\n",
       "      <td>39</td>\n",
       "      <td>1</td>\n",
       "      <td>0.00</td>\n",
       "      <td>2</td>\n",
       "      <td>0</td>\n",
       "      <td>0</td>\n",
       "      <td>93826.63</td>\n",
       "      <td>0</td>\n",
       "    </tr>\n",
       "    <tr>\n",
       "      <th>4</th>\n",
       "      <td>850</td>\n",
       "      <td>Spain</td>\n",
       "      <td>0</td>\n",
       "      <td>43</td>\n",
       "      <td>2</td>\n",
       "      <td>125510.82</td>\n",
       "      <td>1</td>\n",
       "      <td>1</td>\n",
       "      <td>1</td>\n",
       "      <td>79084.10</td>\n",
       "      <td>0</td>\n",
       "    </tr>\n",
       "  </tbody>\n",
       "</table>\n",
       "</div>"
      ],
      "text/plain": [
       "   CreditScore Geography  Gender  Age  Tenure    Balance  NumOfProducts  \\\n",
       "0          619    France       0   42       2       0.00              1   \n",
       "1          608     Spain       0   41       1   83807.86              1   \n",
       "2          502    France       0   42       8  159660.80              3   \n",
       "3          699    France       0   39       1       0.00              2   \n",
       "4          850     Spain       0   43       2  125510.82              1   \n",
       "\n",
       "   HasCrCard  IsActiveMember  EstimatedSalary  Exited  \n",
       "0          1               1        101348.88       1  \n",
       "1          0               1        112542.58       0  \n",
       "2          1               0        113931.57       1  \n",
       "3          0               0         93826.63       0  \n",
       "4          1               1         79084.10       0  "
      ]
     },
     "execution_count": 14,
     "metadata": {},
     "output_type": "execute_result"
    }
   ],
   "source": [
    "df[\"Gender\"] = df['Gender'].map({\"Female\":0,\"Male\":1})\n",
    "df.head()"
   ]
  },
  {
   "cell_type": "code",
   "execution_count": 15,
   "id": "9fc4ee5c",
   "metadata": {
    "ExecuteTime": {
     "end_time": "2024-08-17T10:52:16.169836Z",
     "start_time": "2024-08-17T10:52:16.137037Z"
    },
    "execution": {
     "iopub.execute_input": "2024-06-22T20:37:44.100347Z",
     "iopub.status.busy": "2024-06-22T20:37:44.099904Z",
     "iopub.status.idle": "2024-06-22T20:37:44.109826Z",
     "shell.execute_reply": "2024-06-22T20:37:44.108474Z"
    },
    "papermill": {
     "duration": 0.03117,
     "end_time": "2024-06-22T20:37:44.112599",
     "exception": false,
     "start_time": "2024-06-22T20:37:44.081429",
     "status": "completed"
    },
    "tags": []
   },
   "outputs": [
    {
     "data": {
      "text/plain": [
       "array(['France', 'Spain', 'Germany'], dtype=object)"
      ]
     },
     "execution_count": 15,
     "metadata": {},
     "output_type": "execute_result"
    }
   ],
   "source": [
    "df['Geography'].unique()"
   ]
  },
  {
   "cell_type": "code",
   "execution_count": 16,
   "id": "b270c940",
   "metadata": {
    "ExecuteTime": {
     "end_time": "2024-08-17T10:52:16.301876Z",
     "start_time": "2024-08-17T10:52:16.259185Z"
    },
    "execution": {
     "iopub.execute_input": "2024-06-22T20:37:44.147014Z",
     "iopub.status.busy": "2024-06-22T20:37:44.146616Z",
     "iopub.status.idle": "2024-06-22T20:37:44.168629Z",
     "shell.execute_reply": "2024-06-22T20:37:44.167248Z"
    },
    "papermill": {
     "duration": 0.042888,
     "end_time": "2024-06-22T20:37:44.171752",
     "exception": false,
     "start_time": "2024-06-22T20:37:44.128864",
     "status": "completed"
    },
    "tags": []
   },
   "outputs": [
    {
     "data": {
      "text/html": [
       "<div>\n",
       "<style scoped>\n",
       "    .dataframe tbody tr th:only-of-type {\n",
       "        vertical-align: middle;\n",
       "    }\n",
       "\n",
       "    .dataframe tbody tr th {\n",
       "        vertical-align: top;\n",
       "    }\n",
       "\n",
       "    .dataframe thead th {\n",
       "        text-align: right;\n",
       "    }\n",
       "</style>\n",
       "<table border=\"1\" class=\"dataframe\">\n",
       "  <thead>\n",
       "    <tr style=\"text-align: right;\">\n",
       "      <th></th>\n",
       "      <th>CreditScore</th>\n",
       "      <th>Geography</th>\n",
       "      <th>Gender</th>\n",
       "      <th>Age</th>\n",
       "      <th>Tenure</th>\n",
       "      <th>Balance</th>\n",
       "      <th>NumOfProducts</th>\n",
       "      <th>HasCrCard</th>\n",
       "      <th>IsActiveMember</th>\n",
       "      <th>EstimatedSalary</th>\n",
       "      <th>Exited</th>\n",
       "    </tr>\n",
       "  </thead>\n",
       "  <tbody>\n",
       "    <tr>\n",
       "      <th>0</th>\n",
       "      <td>619</td>\n",
       "      <td>0</td>\n",
       "      <td>0</td>\n",
       "      <td>42</td>\n",
       "      <td>2</td>\n",
       "      <td>0.00</td>\n",
       "      <td>1</td>\n",
       "      <td>1</td>\n",
       "      <td>1</td>\n",
       "      <td>101348.88</td>\n",
       "      <td>1</td>\n",
       "    </tr>\n",
       "    <tr>\n",
       "      <th>1</th>\n",
       "      <td>608</td>\n",
       "      <td>1</td>\n",
       "      <td>0</td>\n",
       "      <td>41</td>\n",
       "      <td>1</td>\n",
       "      <td>83807.86</td>\n",
       "      <td>1</td>\n",
       "      <td>0</td>\n",
       "      <td>1</td>\n",
       "      <td>112542.58</td>\n",
       "      <td>0</td>\n",
       "    </tr>\n",
       "    <tr>\n",
       "      <th>2</th>\n",
       "      <td>502</td>\n",
       "      <td>0</td>\n",
       "      <td>0</td>\n",
       "      <td>42</td>\n",
       "      <td>8</td>\n",
       "      <td>159660.80</td>\n",
       "      <td>3</td>\n",
       "      <td>1</td>\n",
       "      <td>0</td>\n",
       "      <td>113931.57</td>\n",
       "      <td>1</td>\n",
       "    </tr>\n",
       "    <tr>\n",
       "      <th>3</th>\n",
       "      <td>699</td>\n",
       "      <td>0</td>\n",
       "      <td>0</td>\n",
       "      <td>39</td>\n",
       "      <td>1</td>\n",
       "      <td>0.00</td>\n",
       "      <td>2</td>\n",
       "      <td>0</td>\n",
       "      <td>0</td>\n",
       "      <td>93826.63</td>\n",
       "      <td>0</td>\n",
       "    </tr>\n",
       "    <tr>\n",
       "      <th>4</th>\n",
       "      <td>850</td>\n",
       "      <td>1</td>\n",
       "      <td>0</td>\n",
       "      <td>43</td>\n",
       "      <td>2</td>\n",
       "      <td>125510.82</td>\n",
       "      <td>1</td>\n",
       "      <td>1</td>\n",
       "      <td>1</td>\n",
       "      <td>79084.10</td>\n",
       "      <td>0</td>\n",
       "    </tr>\n",
       "  </tbody>\n",
       "</table>\n",
       "</div>"
      ],
      "text/plain": [
       "   CreditScore  Geography  Gender  Age  Tenure    Balance  NumOfProducts  \\\n",
       "0          619          0       0   42       2       0.00              1   \n",
       "1          608          1       0   41       1   83807.86              1   \n",
       "2          502          0       0   42       8  159660.80              3   \n",
       "3          699          0       0   39       1       0.00              2   \n",
       "4          850          1       0   43       2  125510.82              1   \n",
       "\n",
       "   HasCrCard  IsActiveMember  EstimatedSalary  Exited  \n",
       "0          1               1        101348.88       1  \n",
       "1          0               1        112542.58       0  \n",
       "2          1               0        113931.57       1  \n",
       "3          0               0         93826.63       0  \n",
       "4          1               1         79084.10       0  "
      ]
     },
     "execution_count": 16,
     "metadata": {},
     "output_type": "execute_result"
    }
   ],
   "source": [
    "df['Geography'] = df['Geography'].map({'France':0,'Spain':1,'Germany':2})\n",
    "df.head()"
   ]
  },
  {
   "cell_type": "code",
   "execution_count": 17,
   "id": "11b30d25",
   "metadata": {
    "ExecuteTime": {
     "end_time": "2024-08-17T10:52:16.422217Z",
     "start_time": "2024-08-17T10:52:16.395566Z"
    },
    "execution": {
     "iopub.execute_input": "2024-06-22T20:37:44.207240Z",
     "iopub.status.busy": "2024-06-22T20:37:44.206795Z",
     "iopub.status.idle": "2024-06-22T20:37:44.227942Z",
     "shell.execute_reply": "2024-06-22T20:37:44.226757Z"
    },
    "papermill": {
     "duration": 0.041957,
     "end_time": "2024-06-22T20:37:44.230589",
     "exception": false,
     "start_time": "2024-06-22T20:37:44.188632",
     "status": "completed"
    },
    "tags": []
   },
   "outputs": [],
   "source": [
    "X = df.drop(columns = ['Exited'])"
   ]
  },
  {
   "cell_type": "code",
   "execution_count": 18,
   "id": "103587cb",
   "metadata": {
    "ExecuteTime": {
     "end_time": "2024-08-17T10:52:16.503555Z",
     "start_time": "2024-08-17T10:52:16.476783Z"
    },
    "execution": {
     "iopub.execute_input": "2024-06-22T20:37:44.268361Z",
     "iopub.status.busy": "2024-06-22T20:37:44.267915Z",
     "iopub.status.idle": "2024-06-22T20:37:44.277075Z",
     "shell.execute_reply": "2024-06-22T20:37:44.276001Z"
    },
    "papermill": {
     "duration": 0.030775,
     "end_time": "2024-06-22T20:37:44.279706",
     "exception": false,
     "start_time": "2024-06-22T20:37:44.248931",
     "status": "completed"
    },
    "tags": []
   },
   "outputs": [],
   "source": [
    "y = df['Exited']"
   ]
  },
  {
   "cell_type": "code",
   "execution_count": 19,
   "id": "b4f56b77",
   "metadata": {
    "ExecuteTime": {
     "end_time": "2024-08-17T10:52:16.608665Z",
     "start_time": "2024-08-17T10:52:16.579049Z"
    },
    "execution": {
     "iopub.execute_input": "2024-06-22T20:37:44.317821Z",
     "iopub.status.busy": "2024-06-22T20:37:44.317268Z",
     "iopub.status.idle": "2024-06-22T20:37:45.868105Z",
     "shell.execute_reply": "2024-06-22T20:37:45.866884Z"
    },
    "papermill": {
     "duration": 1.573632,
     "end_time": "2024-06-22T20:37:45.871105",
     "exception": false,
     "start_time": "2024-06-22T20:37:44.297473",
     "status": "completed"
    },
    "tags": []
   },
   "outputs": [],
   "source": [
    "X_train, X_test, y_train,y_test = train_test_split(X,y,test_size=0.2,random_state=1)"
   ]
  },
  {
   "cell_type": "code",
   "execution_count": 20,
   "id": "97045468",
   "metadata": {
    "ExecuteTime": {
     "end_time": "2024-08-17T10:52:17.031003Z",
     "start_time": "2024-08-17T10:52:17.025482Z"
    },
    "execution": {
     "iopub.execute_input": "2024-06-22T20:37:46.143251Z",
     "iopub.status.busy": "2024-06-22T20:37:46.142765Z",
     "iopub.status.idle": "2024-06-22T20:37:46.148221Z",
     "shell.execute_reply": "2024-06-22T20:37:46.147049Z"
    },
    "papermill": {
     "duration": 0.029309,
     "end_time": "2024-06-22T20:37:46.150923",
     "exception": false,
     "start_time": "2024-06-22T20:37:46.121614",
     "status": "completed"
    },
    "tags": []
   },
   "outputs": [],
   "source": [
    "scaler = StandardScaler()"
   ]
  },
  {
   "cell_type": "code",
   "execution_count": 21,
   "id": "fd8a3b89",
   "metadata": {
    "ExecuteTime": {
     "end_time": "2024-08-17T10:52:17.152787Z",
     "start_time": "2024-08-17T10:52:17.130425Z"
    },
    "execution": {
     "iopub.execute_input": "2024-06-22T20:37:46.192082Z",
     "iopub.status.busy": "2024-06-22T20:37:46.191638Z",
     "iopub.status.idle": "2024-06-22T20:37:46.206741Z",
     "shell.execute_reply": "2024-06-22T20:37:46.205483Z"
    },
    "papermill": {
     "duration": 0.039847,
     "end_time": "2024-06-22T20:37:46.209827",
     "exception": false,
     "start_time": "2024-06-22T20:37:46.169980",
     "status": "completed"
    },
    "tags": []
   },
   "outputs": [],
   "source": [
    "X_train_scaled = scaler.fit_transform(X_train) \n",
    "X_test_scaled = scaler.transform(X_test)"
   ]
  },
  {
   "cell_type": "code",
   "execution_count": 22,
   "id": "3458828b",
   "metadata": {
    "ExecuteTime": {
     "end_time": "2024-08-17T10:52:17.192313Z",
     "start_time": "2024-08-17T10:52:17.169768Z"
    },
    "execution": {
     "iopub.execute_input": "2024-06-22T20:37:46.249375Z",
     "iopub.status.busy": "2024-06-22T20:37:46.248866Z",
     "iopub.status.idle": "2024-06-22T20:37:46.259870Z",
     "shell.execute_reply": "2024-06-22T20:37:46.258268Z"
    },
    "papermill": {
     "duration": 0.034625,
     "end_time": "2024-06-22T20:37:46.262836",
     "exception": false,
     "start_time": "2024-06-22T20:37:46.228211",
     "status": "completed"
    },
    "tags": []
   },
   "outputs": [
    {
     "data": {
      "text/plain": [
       "array([[-0.23082038,  1.49644863,  0.91509065, ..., -1.55337352,\n",
       "         0.97725852,  0.42739449],\n",
       "       [-0.25150912, -0.90651986, -1.09278791, ..., -1.55337352,\n",
       "        -1.02327069, -1.02548708],\n",
       "       [-0.3963303 ,  1.49644863, -1.09278791, ...,  0.64376017,\n",
       "         0.97725852, -0.94479772],\n",
       "       ...,\n",
       "       [ 0.22433188, -0.90651986, -1.09278791, ...,  0.64376017,\n",
       "         0.97725852, -0.14096853],\n",
       "       [ 0.13123255, -0.90651986, -1.09278791, ...,  0.64376017,\n",
       "         0.97725852,  0.01781218],\n",
       "       [ 1.1656695 ,  1.49644863,  0.91509065, ...,  0.64376017,\n",
       "        -1.02327069, -1.15822478]])"
      ]
     },
     "execution_count": 22,
     "metadata": {},
     "output_type": "execute_result"
    }
   ],
   "source": [
    "X_train_scaled"
   ]
  },
  {
   "cell_type": "code",
   "execution_count": 23,
   "id": "d3c707ec",
   "metadata": {
    "ExecuteTime": {
     "end_time": "2024-08-17T10:52:17.242381Z",
     "start_time": "2024-08-17T10:52:17.216972Z"
    },
    "execution": {
     "iopub.execute_input": "2024-06-22T20:37:46.367168Z",
     "iopub.status.busy": "2024-06-22T20:37:46.366737Z",
     "iopub.status.idle": "2024-06-22T20:37:46.375316Z",
     "shell.execute_reply": "2024-06-22T20:37:46.374051Z"
    },
    "papermill": {
     "duration": 0.095833,
     "end_time": "2024-06-22T20:37:46.378294",
     "exception": false,
     "start_time": "2024-06-22T20:37:46.282461",
     "status": "completed"
    },
    "tags": []
   },
   "outputs": [
    {
     "data": {
      "text/plain": [
       "array([[-1.03768121, -0.90651986,  0.91509065, ...,  0.64376017,\n",
       "         0.97725852, -0.05360571],\n",
       "       [ 0.30708683, -0.90651986,  0.91509065, ...,  0.64376017,\n",
       "        -1.02327069, -0.58392685],\n",
       "       [-1.23422423, -0.90651986, -1.09278791, ..., -1.55337352,\n",
       "         0.97725852, -0.16685331],\n",
       "       ...,\n",
       "       [-0.86182692,  0.29496438,  0.91509065, ..., -1.55337352,\n",
       "         0.97725852,  1.0669965 ],\n",
       "       [-0.30323097,  1.49644863, -1.09278791, ...,  0.64376017,\n",
       "         0.97725852,  1.13101314],\n",
       "       [ 0.04847759,  1.49644863,  0.91509065, ...,  0.64376017,\n",
       "         0.97725852, -0.88790165]])"
      ]
     },
     "execution_count": 23,
     "metadata": {},
     "output_type": "execute_result"
    }
   ],
   "source": [
    "X_test_scaled"
   ]
  },
  {
   "cell_type": "code",
   "execution_count": 24,
   "id": "bf525d64",
   "metadata": {
    "ExecuteTime": {
     "end_time": "2024-08-17T10:52:17.412656Z",
     "start_time": "2024-08-17T10:52:17.375284Z"
    },
    "execution": {
     "iopub.execute_input": "2024-06-22T20:38:01.381511Z",
     "iopub.status.busy": "2024-06-22T20:38:01.380721Z",
     "iopub.status.idle": "2024-06-22T20:38:01.476666Z",
     "shell.execute_reply": "2024-06-22T20:38:01.475545Z"
    },
    "papermill": {
     "duration": 0.119454,
     "end_time": "2024-06-22T20:38:01.479338",
     "exception": false,
     "start_time": "2024-06-22T20:38:01.359884",
     "status": "completed"
    },
    "tags": []
   },
   "outputs": [],
   "source": [
    "model = Sequential()\n",
    "model.add(Dense(11, activation='sigmoid', input_dim = X_train_scaled.shape[1]))\n",
    "model.add(Dense(11,activation='sigmoid'))\n",
    "model.add(Dense(1, activation='sigmoid'))"
   ]
  },
  {
   "cell_type": "code",
   "execution_count": 25,
   "id": "1a2d2d2e",
   "metadata": {
    "ExecuteTime": {
     "end_time": "2024-08-17T10:52:17.496192Z",
     "start_time": "2024-08-17T10:52:17.473729Z"
    },
    "execution": {
     "iopub.execute_input": "2024-06-22T20:38:01.519840Z",
     "iopub.status.busy": "2024-06-22T20:38:01.519458Z",
     "iopub.status.idle": "2024-06-22T20:38:01.541731Z",
     "shell.execute_reply": "2024-06-22T20:38:01.540505Z"
    },
    "papermill": {
     "duration": 0.04586,
     "end_time": "2024-06-22T20:38:01.544618",
     "exception": false,
     "start_time": "2024-06-22T20:38:01.498758",
     "status": "completed"
    },
    "tags": []
   },
   "outputs": [
    {
     "name": "stdout",
     "output_type": "stream",
     "text": [
      "Model: \"sequential\"\n",
      "_________________________________________________________________\n",
      " Layer (type)                Output Shape              Param #   \n",
      "=================================================================\n",
      " dense (Dense)               (None, 11)                121       \n",
      "                                                                 \n",
      " dense_1 (Dense)             (None, 11)                132       \n",
      "                                                                 \n",
      " dense_2 (Dense)             (None, 1)                 12        \n",
      "                                                                 \n",
      "=================================================================\n",
      "Total params: 265\n",
      "Trainable params: 265\n",
      "Non-trainable params: 0\n",
      "_________________________________________________________________\n"
     ]
    }
   ],
   "source": [
    "model.summary()"
   ]
  },
  {
   "cell_type": "code",
   "execution_count": 26,
   "id": "a1cdc2f9",
   "metadata": {
    "ExecuteTime": {
     "end_time": "2024-08-17T10:52:17.541133Z",
     "start_time": "2024-08-17T10:52:17.511007Z"
    },
    "execution": {
     "iopub.execute_input": "2024-06-22T20:38:01.586557Z",
     "iopub.status.busy": "2024-06-22T20:38:01.586096Z",
     "iopub.status.idle": "2024-06-22T20:38:01.602903Z",
     "shell.execute_reply": "2024-06-22T20:38:01.601657Z"
    },
    "papermill": {
     "duration": 0.041036,
     "end_time": "2024-06-22T20:38:01.605669",
     "exception": false,
     "start_time": "2024-06-22T20:38:01.564633",
     "status": "completed"
    },
    "tags": []
   },
   "outputs": [],
   "source": [
    "model.compile(loss='binary_crossentropy',optimizer='Adam',metrics=['accuracy'])"
   ]
  },
  {
   "cell_type": "code",
   "execution_count": 27,
   "id": "7dc5c3cb",
   "metadata": {
    "ExecuteTime": {
     "end_time": "2024-08-17T10:52:17.635583Z",
     "start_time": "2024-08-17T10:52:17.601030Z"
    },
    "execution": {
     "iopub.execute_input": "2024-06-22T20:38:01.649005Z",
     "iopub.status.busy": "2024-06-22T20:38:01.648600Z",
     "iopub.status.idle": "2024-06-22T20:38:31.113766Z",
     "shell.execute_reply": "2024-06-22T20:38:31.112730Z"
    },
    "papermill": {
     "duration": 29.490834,
     "end_time": "2024-06-22T20:38:31.116439",
     "exception": false,
     "start_time": "2024-06-22T20:38:01.625605",
     "status": "completed"
    },
    "tags": []
   },
   "outputs": [
    {
     "name": "stdout",
     "output_type": "stream",
     "text": [
      "Epoch 1/100\n",
      "128/128 [==============================] - 2s 7ms/step - loss: 0.6092 - accuracy: 0.6880 - val_loss: 0.5174 - val_accuracy: 0.7975\n",
      "Epoch 2/100\n",
      "128/128 [==============================] - 0s 3ms/step - loss: 0.5063 - accuracy: 0.7972 - val_loss: 0.5013 - val_accuracy: 0.7975\n",
      "Epoch 3/100\n",
      "128/128 [==============================] - 1s 5ms/step - loss: 0.5013 - accuracy: 0.7972 - val_loss: 0.5002 - val_accuracy: 0.7975\n",
      "Epoch 4/100\n",
      "128/128 [==============================] - 0s 3ms/step - loss: 0.5004 - accuracy: 0.7972 - val_loss: 0.4993 - val_accuracy: 0.7975\n",
      "Epoch 5/100\n",
      "128/128 [==============================] - 0s 3ms/step - loss: 0.4999 - accuracy: 0.7972 - val_loss: 0.4988 - val_accuracy: 0.7975\n",
      "Epoch 6/100\n",
      "128/128 [==============================] - 0s 3ms/step - loss: 0.4995 - accuracy: 0.7972 - val_loss: 0.4986 - val_accuracy: 0.7975\n",
      "Epoch 7/100\n",
      "128/128 [==============================] - 0s 4ms/step - loss: 0.4990 - accuracy: 0.7972 - val_loss: 0.4980 - val_accuracy: 0.7975\n",
      "Epoch 8/100\n",
      "128/128 [==============================] - 0s 4ms/step - loss: 0.4987 - accuracy: 0.7972 - val_loss: 0.4977 - val_accuracy: 0.7975\n",
      "Epoch 9/100\n",
      "128/128 [==============================] - 1s 4ms/step - loss: 0.4988 - accuracy: 0.7972 - val_loss: 0.4975 - val_accuracy: 0.7975\n",
      "Epoch 10/100\n",
      "128/128 [==============================] - 0s 3ms/step - loss: 0.4984 - accuracy: 0.7972 - val_loss: 0.4973 - val_accuracy: 0.7975\n",
      "Epoch 11/100\n",
      "128/128 [==============================] - 0s 4ms/step - loss: 0.4983 - accuracy: 0.7972 - val_loss: 0.4972 - val_accuracy: 0.7975\n",
      "Epoch 12/100\n",
      "128/128 [==============================] - 0s 3ms/step - loss: 0.4982 - accuracy: 0.7972 - val_loss: 0.4970 - val_accuracy: 0.7975\n",
      "Epoch 13/100\n",
      "128/128 [==============================] - 0s 3ms/step - loss: 0.4980 - accuracy: 0.7972 - val_loss: 0.4969 - val_accuracy: 0.7975\n",
      "Epoch 14/100\n",
      "128/128 [==============================] - 0s 4ms/step - loss: 0.4978 - accuracy: 0.7972 - val_loss: 0.4968 - val_accuracy: 0.7975\n",
      "Epoch 15/100\n",
      "128/128 [==============================] - 1s 4ms/step - loss: 0.4977 - accuracy: 0.7972 - val_loss: 0.4968 - val_accuracy: 0.7975\n",
      "Epoch 16/100\n",
      "128/128 [==============================] - 0s 4ms/step - loss: 0.4977 - accuracy: 0.7972 - val_loss: 0.4966 - val_accuracy: 0.7975\n",
      "Epoch 17/100\n",
      "128/128 [==============================] - 0s 4ms/step - loss: 0.4977 - accuracy: 0.7972 - val_loss: 0.4966 - val_accuracy: 0.7975\n",
      "Epoch 18/100\n",
      "128/128 [==============================] - 1s 4ms/step - loss: 0.4977 - accuracy: 0.7972 - val_loss: 0.4965 - val_accuracy: 0.7975\n",
      "Epoch 19/100\n",
      "128/128 [==============================] - 0s 4ms/step - loss: 0.4976 - accuracy: 0.7972 - val_loss: 0.4966 - val_accuracy: 0.7975\n",
      "Epoch 20/100\n",
      "128/128 [==============================] - 0s 4ms/step - loss: 0.4979 - accuracy: 0.7972 - val_loss: 0.4966 - val_accuracy: 0.7975\n",
      "Epoch 21/100\n",
      "128/128 [==============================] - 0s 3ms/step - loss: 0.4976 - accuracy: 0.7972 - val_loss: 0.4966 - val_accuracy: 0.7975\n",
      "Epoch 22/100\n",
      "128/128 [==============================] - 0s 4ms/step - loss: 0.4976 - accuracy: 0.7972 - val_loss: 0.4964 - val_accuracy: 0.7975\n",
      "Epoch 23/100\n",
      "128/128 [==============================] - 0s 3ms/step - loss: 0.4976 - accuracy: 0.7972 - val_loss: 0.4964 - val_accuracy: 0.7975\n",
      "Epoch 24/100\n",
      "128/128 [==============================] - 0s 4ms/step - loss: 0.4974 - accuracy: 0.7972 - val_loss: 0.4963 - val_accuracy: 0.7975\n",
      "Epoch 25/100\n",
      "128/128 [==============================] - 0s 3ms/step - loss: 0.4974 - accuracy: 0.7972 - val_loss: 0.4963 - val_accuracy: 0.7975\n",
      "Epoch 26/100\n",
      "128/128 [==============================] - 0s 4ms/step - loss: 0.4974 - accuracy: 0.7972 - val_loss: 0.4963 - val_accuracy: 0.7975\n",
      "Epoch 27/100\n",
      "128/128 [==============================] - 0s 4ms/step - loss: 0.4974 - accuracy: 0.7972 - val_loss: 0.4968 - val_accuracy: 0.7975\n",
      "Epoch 28/100\n",
      "128/128 [==============================] - 0s 4ms/step - loss: 0.4975 - accuracy: 0.7972 - val_loss: 0.4962 - val_accuracy: 0.7975\n",
      "Epoch 29/100\n",
      "128/128 [==============================] - 0s 4ms/step - loss: 0.4974 - accuracy: 0.7972 - val_loss: 0.4963 - val_accuracy: 0.7975\n",
      "Epoch 30/100\n",
      "128/128 [==============================] - 0s 4ms/step - loss: 0.4975 - accuracy: 0.7972 - val_loss: 0.4962 - val_accuracy: 0.7975\n",
      "Epoch 31/100\n",
      "128/128 [==============================] - 0s 4ms/step - loss: 0.4974 - accuracy: 0.7972 - val_loss: 0.4963 - val_accuracy: 0.7975\n",
      "Epoch 32/100\n",
      "128/128 [==============================] - 0s 4ms/step - loss: 0.4978 - accuracy: 0.7972 - val_loss: 0.4962 - val_accuracy: 0.7975\n",
      "Epoch 33/100\n",
      "128/128 [==============================] - 0s 4ms/step - loss: 0.4973 - accuracy: 0.7972 - val_loss: 0.4962 - val_accuracy: 0.7975\n",
      "Epoch 34/100\n",
      "128/128 [==============================] - 0s 4ms/step - loss: 0.4974 - accuracy: 0.7972 - val_loss: 0.4963 - val_accuracy: 0.7975\n",
      "Epoch 35/100\n",
      "128/128 [==============================] - 0s 4ms/step - loss: 0.4974 - accuracy: 0.7972 - val_loss: 0.4965 - val_accuracy: 0.7975\n",
      "Epoch 36/100\n",
      "128/128 [==============================] - 0s 3ms/step - loss: 0.4974 - accuracy: 0.7972 - val_loss: 0.4962 - val_accuracy: 0.7975\n",
      "Epoch 37/100\n",
      "128/128 [==============================] - 0s 3ms/step - loss: 0.4970 - accuracy: 0.7972 - val_loss: 0.4967 - val_accuracy: 0.7975\n",
      "Epoch 38/100\n",
      "128/128 [==============================] - 0s 4ms/step - loss: 0.4974 - accuracy: 0.7972 - val_loss: 0.4961 - val_accuracy: 0.7975\n",
      "Epoch 39/100\n",
      "128/128 [==============================] - 0s 4ms/step - loss: 0.4972 - accuracy: 0.7972 - val_loss: 0.4963 - val_accuracy: 0.7975\n",
      "Epoch 40/100\n",
      "128/128 [==============================] - 0s 4ms/step - loss: 0.4975 - accuracy: 0.7972 - val_loss: 0.4961 - val_accuracy: 0.7975\n",
      "Epoch 41/100\n",
      "128/128 [==============================] - 0s 4ms/step - loss: 0.4975 - accuracy: 0.7972 - val_loss: 0.4961 - val_accuracy: 0.7975\n",
      "Epoch 42/100\n",
      "128/128 [==============================] - 0s 3ms/step - loss: 0.4972 - accuracy: 0.7972 - val_loss: 0.4963 - val_accuracy: 0.7975\n",
      "Epoch 43/100\n",
      "128/128 [==============================] - 0s 4ms/step - loss: 0.4975 - accuracy: 0.7972 - val_loss: 0.4961 - val_accuracy: 0.7975\n",
      "Epoch 44/100\n",
      "128/128 [==============================] - 0s 3ms/step - loss: 0.4973 - accuracy: 0.7972 - val_loss: 0.4961 - val_accuracy: 0.7975\n",
      "Epoch 45/100\n",
      "128/128 [==============================] - 0s 3ms/step - loss: 0.4974 - accuracy: 0.7972 - val_loss: 0.4960 - val_accuracy: 0.7975\n",
      "Epoch 46/100\n",
      "128/128 [==============================] - 0s 3ms/step - loss: 0.4974 - accuracy: 0.7972 - val_loss: 0.4961 - val_accuracy: 0.7975\n",
      "Epoch 47/100\n",
      "128/128 [==============================] - 0s 3ms/step - loss: 0.4973 - accuracy: 0.7972 - val_loss: 0.4960 - val_accuracy: 0.7975\n",
      "Epoch 48/100\n",
      "128/128 [==============================] - 0s 3ms/step - loss: 0.4972 - accuracy: 0.7972 - val_loss: 0.4960 - val_accuracy: 0.7975\n",
      "Epoch 49/100\n",
      "128/128 [==============================] - 0s 3ms/step - loss: 0.4972 - accuracy: 0.7972 - val_loss: 0.4961 - val_accuracy: 0.7975\n",
      "Epoch 50/100\n",
      "128/128 [==============================] - 0s 3ms/step - loss: 0.4974 - accuracy: 0.7972 - val_loss: 0.4964 - val_accuracy: 0.7975\n",
      "Epoch 51/100\n",
      "128/128 [==============================] - 0s 3ms/step - loss: 0.4973 - accuracy: 0.7972 - val_loss: 0.4960 - val_accuracy: 0.7975\n",
      "Epoch 52/100\n",
      "128/128 [==============================] - 0s 4ms/step - loss: 0.4974 - accuracy: 0.7972 - val_loss: 0.4960 - val_accuracy: 0.7975\n",
      "Epoch 53/100\n",
      "128/128 [==============================] - 0s 4ms/step - loss: 0.4973 - accuracy: 0.7972 - val_loss: 0.4960 - val_accuracy: 0.7975\n",
      "Epoch 54/100\n",
      "128/128 [==============================] - 0s 3ms/step - loss: 0.4973 - accuracy: 0.7972 - val_loss: 0.4960 - val_accuracy: 0.7975\n",
      "Epoch 55/100\n",
      "128/128 [==============================] - 0s 2ms/step - loss: 0.4973 - accuracy: 0.7972 - val_loss: 0.4960 - val_accuracy: 0.7975\n",
      "Epoch 56/100\n",
      "128/128 [==============================] - 0s 3ms/step - loss: 0.4971 - accuracy: 0.7972 - val_loss: 0.4962 - val_accuracy: 0.7975\n",
      "Epoch 57/100\n",
      "128/128 [==============================] - 0s 4ms/step - loss: 0.4972 - accuracy: 0.7972 - val_loss: 0.4960 - val_accuracy: 0.7975\n"
     ]
    },
    {
     "name": "stdout",
     "output_type": "stream",
     "text": [
      "Epoch 58/100\n",
      "128/128 [==============================] - 0s 4ms/step - loss: 0.4971 - accuracy: 0.7972 - val_loss: 0.4960 - val_accuracy: 0.7975\n",
      "Epoch 59/100\n",
      "128/128 [==============================] - 0s 3ms/step - loss: 0.4971 - accuracy: 0.7972 - val_loss: 0.4962 - val_accuracy: 0.7975\n",
      "Epoch 60/100\n",
      "128/128 [==============================] - 1s 4ms/step - loss: 0.4972 - accuracy: 0.7972 - val_loss: 0.4960 - val_accuracy: 0.7975\n",
      "Epoch 61/100\n",
      "128/128 [==============================] - 0s 3ms/step - loss: 0.4972 - accuracy: 0.7972 - val_loss: 0.4960 - val_accuracy: 0.7975\n",
      "Epoch 62/100\n",
      "128/128 [==============================] - 0s 4ms/step - loss: 0.4971 - accuracy: 0.7972 - val_loss: 0.4960 - val_accuracy: 0.7975\n",
      "Epoch 63/100\n",
      "128/128 [==============================] - 0s 3ms/step - loss: 0.4973 - accuracy: 0.7972 - val_loss: 0.4960 - val_accuracy: 0.7975\n",
      "Epoch 64/100\n",
      "128/128 [==============================] - 0s 4ms/step - loss: 0.4971 - accuracy: 0.7972 - val_loss: 0.4962 - val_accuracy: 0.7975\n",
      "Epoch 65/100\n",
      "128/128 [==============================] - 0s 4ms/step - loss: 0.4974 - accuracy: 0.7972 - val_loss: 0.4959 - val_accuracy: 0.7975\n",
      "Epoch 66/100\n",
      "128/128 [==============================] - 0s 4ms/step - loss: 0.4972 - accuracy: 0.7972 - val_loss: 0.4960 - val_accuracy: 0.7975\n",
      "Epoch 67/100\n",
      "128/128 [==============================] - 0s 4ms/step - loss: 0.4973 - accuracy: 0.7972 - val_loss: 0.4961 - val_accuracy: 0.7975\n",
      "Epoch 68/100\n",
      "128/128 [==============================] - 0s 3ms/step - loss: 0.4971 - accuracy: 0.7972 - val_loss: 0.4961 - val_accuracy: 0.7975\n",
      "Epoch 69/100\n",
      "128/128 [==============================] - 0s 3ms/step - loss: 0.4973 - accuracy: 0.7972 - val_loss: 0.4960 - val_accuracy: 0.7975\n",
      "Epoch 70/100\n",
      "128/128 [==============================] - 0s 4ms/step - loss: 0.4973 - accuracy: 0.7972 - val_loss: 0.4959 - val_accuracy: 0.7975\n",
      "Epoch 71/100\n",
      "128/128 [==============================] - 0s 4ms/step - loss: 0.4972 - accuracy: 0.7972 - val_loss: 0.4960 - val_accuracy: 0.7975\n",
      "Epoch 72/100\n",
      "128/128 [==============================] - 0s 4ms/step - loss: 0.4973 - accuracy: 0.7972 - val_loss: 0.4963 - val_accuracy: 0.7975\n",
      "Epoch 73/100\n",
      "128/128 [==============================] - 0s 4ms/step - loss: 0.4974 - accuracy: 0.7972 - val_loss: 0.4959 - val_accuracy: 0.7975\n",
      "Epoch 74/100\n",
      "128/128 [==============================] - 0s 4ms/step - loss: 0.4972 - accuracy: 0.7972 - val_loss: 0.4961 - val_accuracy: 0.7975\n",
      "Epoch 75/100\n",
      "128/128 [==============================] - 0s 3ms/step - loss: 0.4973 - accuracy: 0.7972 - val_loss: 0.4961 - val_accuracy: 0.7975\n",
      "Epoch 76/100\n",
      "128/128 [==============================] - 0s 4ms/step - loss: 0.4973 - accuracy: 0.7972 - val_loss: 0.4960 - val_accuracy: 0.7975\n",
      "Epoch 77/100\n",
      "128/128 [==============================] - 0s 3ms/step - loss: 0.4972 - accuracy: 0.7972 - val_loss: 0.4959 - val_accuracy: 0.7975\n",
      "Epoch 78/100\n",
      "128/128 [==============================] - 0s 4ms/step - loss: 0.4973 - accuracy: 0.7972 - val_loss: 0.4960 - val_accuracy: 0.7975\n",
      "Epoch 79/100\n",
      "128/128 [==============================] - 0s 4ms/step - loss: 0.4971 - accuracy: 0.7972 - val_loss: 0.4960 - val_accuracy: 0.7975\n",
      "Epoch 80/100\n",
      "128/128 [==============================] - 0s 4ms/step - loss: 0.4973 - accuracy: 0.7972 - val_loss: 0.4960 - val_accuracy: 0.7975\n",
      "Epoch 81/100\n",
      "128/128 [==============================] - 0s 4ms/step - loss: 0.4974 - accuracy: 0.7972 - val_loss: 0.4960 - val_accuracy: 0.7975\n",
      "Epoch 82/100\n",
      "128/128 [==============================] - 0s 4ms/step - loss: 0.4973 - accuracy: 0.7972 - val_loss: 0.4959 - val_accuracy: 0.7975\n",
      "Epoch 83/100\n",
      "128/128 [==============================] - 0s 4ms/step - loss: 0.4973 - accuracy: 0.7972 - val_loss: 0.4959 - val_accuracy: 0.7975\n",
      "Epoch 84/100\n",
      "128/128 [==============================] - 0s 4ms/step - loss: 0.4974 - accuracy: 0.7972 - val_loss: 0.4959 - val_accuracy: 0.7975\n",
      "Epoch 85/100\n",
      "128/128 [==============================] - 0s 4ms/step - loss: 0.4971 - accuracy: 0.7972 - val_loss: 0.4959 - val_accuracy: 0.7975\n",
      "Epoch 86/100\n",
      "128/128 [==============================] - 0s 4ms/step - loss: 0.4972 - accuracy: 0.7972 - val_loss: 0.4960 - val_accuracy: 0.7975\n",
      "Epoch 87/100\n",
      "128/128 [==============================] - 0s 4ms/step - loss: 0.4972 - accuracy: 0.7972 - val_loss: 0.4959 - val_accuracy: 0.7975\n",
      "Epoch 88/100\n",
      "128/128 [==============================] - 0s 4ms/step - loss: 0.4972 - accuracy: 0.7972 - val_loss: 0.4959 - val_accuracy: 0.7975\n",
      "Epoch 89/100\n",
      "128/128 [==============================] - 0s 3ms/step - loss: 0.4973 - accuracy: 0.7972 - val_loss: 0.4960 - val_accuracy: 0.7975\n",
      "Epoch 90/100\n",
      "128/128 [==============================] - 0s 4ms/step - loss: 0.4975 - accuracy: 0.7972 - val_loss: 0.4959 - val_accuracy: 0.7975\n",
      "Epoch 91/100\n",
      "128/128 [==============================] - 0s 4ms/step - loss: 0.4971 - accuracy: 0.7972 - val_loss: 0.4960 - val_accuracy: 0.7975\n",
      "Epoch 92/100\n",
      "128/128 [==============================] - 0s 4ms/step - loss: 0.4973 - accuracy: 0.7972 - val_loss: 0.4958 - val_accuracy: 0.7975\n",
      "Epoch 93/100\n",
      "128/128 [==============================] - 0s 4ms/step - loss: 0.4974 - accuracy: 0.7972 - val_loss: 0.4959 - val_accuracy: 0.7975\n",
      "Epoch 94/100\n",
      "128/128 [==============================] - 0s 4ms/step - loss: 0.4975 - accuracy: 0.7972 - val_loss: 0.4961 - val_accuracy: 0.7975\n",
      "Epoch 95/100\n",
      "128/128 [==============================] - 0s 4ms/step - loss: 0.4975 - accuracy: 0.7972 - val_loss: 0.4960 - val_accuracy: 0.7975\n",
      "Epoch 96/100\n",
      "128/128 [==============================] - 0s 4ms/step - loss: 0.4973 - accuracy: 0.7972 - val_loss: 0.4960 - val_accuracy: 0.7975\n",
      "Epoch 97/100\n",
      "128/128 [==============================] - 0s 4ms/step - loss: 0.4973 - accuracy: 0.7972 - val_loss: 0.4962 - val_accuracy: 0.7975\n",
      "Epoch 98/100\n",
      "128/128 [==============================] - 0s 4ms/step - loss: 0.4972 - accuracy: 0.7972 - val_loss: 0.4961 - val_accuracy: 0.7975\n",
      "Epoch 99/100\n",
      "128/128 [==============================] - 0s 4ms/step - loss: 0.4977 - accuracy: 0.7972 - val_loss: 0.4964 - val_accuracy: 0.7975\n",
      "Epoch 100/100\n",
      "128/128 [==============================] - 0s 3ms/step - loss: 0.4974 - accuracy: 0.7972 - val_loss: 0.4960 - val_accuracy: 0.7975\n"
     ]
    },
    {
     "data": {
      "text/plain": [
       "<keras.callbacks.History at 0x1b9ac9da260>"
      ]
     },
     "execution_count": 27,
     "metadata": {},
     "output_type": "execute_result"
    }
   ],
   "source": [
    "model.fit(X_train,y_train,batch_size=50,epochs=100,verbose=1,validation_split=0.2)"
   ]
  },
  {
   "cell_type": "code",
   "execution_count": 28,
   "id": "3af7d16f",
   "metadata": {
    "ExecuteTime": {
     "end_time": "2024-08-17T10:52:17.670377Z",
     "start_time": "2024-08-17T10:52:17.643143Z"
    },
    "execution": {
     "iopub.execute_input": "2024-06-22T20:38:31.272583Z",
     "iopub.status.busy": "2024-06-22T20:38:31.271634Z",
     "iopub.status.idle": "2024-06-22T20:38:31.285085Z",
     "shell.execute_reply": "2024-06-22T20:38:31.283974Z"
    },
    "papermill": {
     "duration": 0.09425,
     "end_time": "2024-06-22T20:38:31.287819",
     "exception": false,
     "start_time": "2024-06-22T20:38:31.193569",
     "status": "completed"
    },
    "tags": []
   },
   "outputs": [
    {
     "data": {
      "text/plain": [
       "[array([[ 0.02555358,  0.5223477 ,  0.50994295,  0.46569118,  0.2176956 ,\n",
       "         -0.50695986, -0.23738854, -0.17667557, -0.12653056, -0.00524282,\n",
       "         -0.04711804],\n",
       "        [ 0.24494432,  0.16088921, -0.41152674, -0.49554393,  0.46627694,\n",
       "          0.43188238,  0.5804104 , -0.36063135,  0.41889954,  0.03527796,\n",
       "         -0.33666104],\n",
       "        [ 0.07025217, -0.26381013,  0.47786957, -0.28947452, -0.37321493,\n",
       "          0.40040532, -0.11315235, -0.32731915,  0.11140519,  0.01957785,\n",
       "          0.44275284],\n",
       "        [ 0.25057843, -0.05392895, -0.5119044 , -0.37051776, -0.29612184,\n",
       "          0.38441086,  0.3070428 , -0.03611337,  0.10060352, -0.40604097,\n",
       "          0.5331679 ],\n",
       "        [ 0.2668306 , -0.0439447 , -0.2302019 , -0.00820481,  0.35263819,\n",
       "         -0.20891741, -0.20018096,  0.20800625, -0.2220205 ,  0.23367192,\n",
       "          0.31711757],\n",
       "        [-0.33995628, -0.13450825, -0.46892726,  0.03257411,  0.45426327,\n",
       "          0.1067214 ,  0.17092057,  0.26802045, -0.34593117,  0.48468143,\n",
       "         -0.44326532],\n",
       "        [-0.2340364 , -0.16711397,  0.1377114 ,  0.49821264,  0.12820691,\n",
       "         -0.19682582,  0.45651725,  0.42788786, -0.096131  , -0.05783974,\n",
       "          0.29925352],\n",
       "        [-0.51293546, -0.33308282, -0.27641693,  0.0436245 , -0.13189718,\n",
       "         -0.17344798,  0.19278628,  0.3159696 , -0.13002917, -0.2405386 ,\n",
       "          0.28811467],\n",
       "        [ 0.3173761 ,  0.35969257,  0.30602634,  0.10155596, -0.30064034,\n",
       "         -0.4604677 ,  0.13550867, -0.1346847 , -0.41297153,  0.0143094 ,\n",
       "          0.46878082],\n",
       "        [ 0.36370465,  0.4426186 ,  0.17918521,  0.00089021,  0.05441338,\n",
       "          0.40383136, -0.09497496, -0.10389804, -0.00386804,  0.46383175,\n",
       "         -0.4953665 ]], dtype=float32),\n",
       " array([ 6.8125492e-03,  9.0522417e-06,  0.0000000e+00,  1.0764656e-02,\n",
       "         0.0000000e+00, -4.8982222e-03,  4.3936718e-02,  2.2276565e-03,\n",
       "        -3.8338091e-26,  5.0610598e-02,  3.2515991e-24], dtype=float32)]"
      ]
     },
     "execution_count": 28,
     "metadata": {},
     "output_type": "execute_result"
    }
   ],
   "source": [
    "model.layers[0].get_weights()"
   ]
  },
  {
   "cell_type": "code",
   "execution_count": 29,
   "id": "83d0bfd4",
   "metadata": {
    "ExecuteTime": {
     "end_time": "2024-08-17T10:52:17.771461Z",
     "start_time": "2024-08-17T10:52:17.747473Z"
    },
    "execution": {
     "iopub.execute_input": "2024-06-22T20:38:31.444614Z",
     "iopub.status.busy": "2024-06-22T20:38:31.444195Z",
     "iopub.status.idle": "2024-06-22T20:38:31.455791Z",
     "shell.execute_reply": "2024-06-22T20:38:31.454728Z"
    },
    "papermill": {
     "duration": 0.093538,
     "end_time": "2024-06-22T20:38:31.458371",
     "exception": false,
     "start_time": "2024-06-22T20:38:31.364833",
     "status": "completed"
    },
    "tags": []
   },
   "outputs": [
    {
     "data": {
      "text/plain": [
       "[array([[ 0.21014403,  0.02517424, -0.35971105,  0.37868   , -0.07265688,\n",
       "          0.02243744, -0.33749503,  0.2806151 , -0.71430415, -0.10598106,\n",
       "         -0.04594027],\n",
       "        [-0.17445338, -0.04989932, -0.113552  , -0.10517589, -0.7488204 ,\n",
       "         -0.11080742, -0.14870314,  0.63131845, -0.15721193,  0.121282  ,\n",
       "         -0.67824066],\n",
       "        [ 0.39805165, -0.9470587 , -0.43839496,  0.20049293, -0.24653746,\n",
       "          0.7527062 ,  0.5241427 ,  0.2951743 ,  0.62884647, -0.41216752,\n",
       "          0.15290664],\n",
       "        [ 0.07634129,  0.3763831 , -0.67133564,  0.5232883 , -0.67361397,\n",
       "          0.16395372,  0.3404529 , -0.31277096,  0.27236682,  0.01978061,\n",
       "         -0.59433913],\n",
       "        [ 0.06156113, -0.30769342, -0.2652259 ,  0.5434373 , -0.06768329,\n",
       "          0.28086847, -0.22302507,  0.07140102,  0.20700279,  0.01552582,\n",
       "         -0.545824  ],\n",
       "        [ 0.48691508, -0.05429148, -0.5354369 ,  0.14447446, -0.09485687,\n",
       "          0.16634716, -0.16959797,  0.2897724 ,  0.47398904, -0.66544443,\n",
       "         -0.32860023],\n",
       "        [-0.1040484 , -0.02775082,  0.42697772, -0.00249207,  0.27558514,\n",
       "          0.50766844, -0.33715168, -0.29535463,  0.15793087, -0.39173752,\n",
       "          0.41689113],\n",
       "        [-0.39692187,  0.31176394, -0.54682636,  0.1735134 , -0.24252175,\n",
       "          0.1537866 , -0.5017213 , -0.26548827, -0.46273723, -0.41348144,\n",
       "          0.5114155 ],\n",
       "        [ 0.35364497,  0.03767699, -0.18201163,  0.3933012 ,  0.4623013 ,\n",
       "          0.28405273,  0.19270045, -0.34286356, -0.1679044 , -0.02114183,\n",
       "          0.16698688],\n",
       "        [ 0.10381042,  0.36846316,  0.23331405,  0.5350793 , -0.5016655 ,\n",
       "          0.32674015,  0.28531048,  0.42188272,  0.46646053,  0.25168416,\n",
       "          0.1836725 ],\n",
       "        [-0.37358665, -0.09408861, -0.37403288, -0.21862245,  0.09826094,\n",
       "          0.06631827,  0.21609002,  0.14272821,  0.2413733 , -0.18306923,\n",
       "          0.4021169 ]], dtype=float32),\n",
       " array([ 0.11545197, -0.12165946, -0.19904658,  0.267417  , -0.12828721,\n",
       "         0.19579154,  0.15649773,  0.14098206,  0.04199579, -0.18924442,\n",
       "        -0.12688771], dtype=float32)]"
      ]
     },
     "execution_count": 29,
     "metadata": {},
     "output_type": "execute_result"
    }
   ],
   "source": [
    "model.layers[1].get_weights()"
   ]
  },
  {
   "cell_type": "code",
   "execution_count": 30,
   "id": "6c54afb1",
   "metadata": {
    "ExecuteTime": {
     "end_time": "2024-08-17T10:52:17.824777Z",
     "start_time": "2024-08-17T10:52:17.800180Z"
    },
    "execution": {
     "iopub.execute_input": "2024-06-22T20:38:31.617132Z",
     "iopub.status.busy": "2024-06-22T20:38:31.616715Z",
     "iopub.status.idle": "2024-06-22T20:38:31.627452Z",
     "shell.execute_reply": "2024-06-22T20:38:31.626324Z"
    },
    "papermill": {
     "duration": 0.093761,
     "end_time": "2024-06-22T20:38:31.629957",
     "exception": false,
     "start_time": "2024-06-22T20:38:31.536196",
     "status": "completed"
    },
    "tags": []
   },
   "outputs": [
    {
     "data": {
      "text/plain": [
       "[array([[-0.7466835 ],\n",
       "        [ 0.5129517 ],\n",
       "        [ 0.24114491],\n",
       "        [-0.19559242],\n",
       "        [ 0.15638407],\n",
       "        [-0.15263832],\n",
       "        [-0.79462516],\n",
       "        [-0.28663066],\n",
       "        [-0.4890181 ],\n",
       "        [ 0.34118792],\n",
       "        [ 0.14370081]], dtype=float32),\n",
       " array([-0.13641047], dtype=float32)]"
      ]
     },
     "execution_count": 30,
     "metadata": {},
     "output_type": "execute_result"
    }
   ],
   "source": [
    "model.layers[2].get_weights()"
   ]
  },
  {
   "cell_type": "code",
   "execution_count": 31,
   "id": "f0d97dba",
   "metadata": {
    "ExecuteTime": {
     "end_time": "2024-08-17T10:52:17.961483Z",
     "start_time": "2024-08-17T10:52:17.925951Z"
    },
    "execution": {
     "iopub.execute_input": "2024-06-22T20:38:31.789766Z",
     "iopub.status.busy": "2024-06-22T20:38:31.789372Z",
     "iopub.status.idle": "2024-06-22T20:38:32.062536Z",
     "shell.execute_reply": "2024-06-22T20:38:32.061379Z"
    },
    "papermill": {
     "duration": 0.357036,
     "end_time": "2024-06-22T20:38:32.065229",
     "exception": false,
     "start_time": "2024-06-22T20:38:31.708193",
     "status": "completed"
    },
    "tags": []
   },
   "outputs": [
    {
     "name": "stdout",
     "output_type": "stream",
     "text": [
      "63/63 [==============================] - 0s 2ms/step\n"
     ]
    },
    {
     "data": {
      "text/plain": [
       "array([[0.20463242],\n",
       "       [0.2009773 ],\n",
       "       [0.20730238],\n",
       "       ...,\n",
       "       [0.1805349 ],\n",
       "       [0.21427172],\n",
       "       [0.23725154]], dtype=float32)"
      ]
     },
     "execution_count": 31,
     "metadata": {},
     "output_type": "execute_result"
    }
   ],
   "source": [
    "y_log = model.predict(X_test_scaled)\n",
    "y_log"
   ]
  },
  {
   "cell_type": "code",
   "execution_count": 32,
   "id": "8e351f0b",
   "metadata": {
    "ExecuteTime": {
     "end_time": "2024-08-17T10:52:18.098499Z",
     "start_time": "2024-08-17T10:52:18.070215Z"
    },
    "execution": {
     "iopub.execute_input": "2024-06-22T20:38:32.223806Z",
     "iopub.status.busy": "2024-06-22T20:38:32.223398Z",
     "iopub.status.idle": "2024-06-22T20:38:32.231235Z",
     "shell.execute_reply": "2024-06-22T20:38:32.230018Z"
    },
    "papermill": {
     "duration": 0.090217,
     "end_time": "2024-06-22T20:38:32.234006",
     "exception": false,
     "start_time": "2024-06-22T20:38:32.143789",
     "status": "completed"
    },
    "tags": []
   },
   "outputs": [
    {
     "data": {
      "text/plain": [
       "array([[0],\n",
       "       [0],\n",
       "       [0],\n",
       "       ...,\n",
       "       [0],\n",
       "       [0],\n",
       "       [0]])"
      ]
     },
     "execution_count": 32,
     "metadata": {},
     "output_type": "execute_result"
    }
   ],
   "source": [
    "y_pred = np.where(y_log>0.5,1,0)\n",
    "y_pred"
   ]
  },
  {
   "cell_type": "code",
   "execution_count": 33,
   "id": "e7f39adf",
   "metadata": {
    "ExecuteTime": {
     "end_time": "2024-08-17T10:52:18.161104Z",
     "start_time": "2024-08-17T10:52:18.125841Z"
    },
    "execution": {
     "iopub.execute_input": "2024-06-22T20:38:32.392886Z",
     "iopub.status.busy": "2024-06-22T20:38:32.392452Z",
     "iopub.status.idle": "2024-06-22T20:38:32.401993Z",
     "shell.execute_reply": "2024-06-22T20:38:32.400914Z"
    },
    "papermill": {
     "duration": 0.091416,
     "end_time": "2024-06-22T20:38:32.404360",
     "exception": false,
     "start_time": "2024-06-22T20:38:32.312944",
     "status": "completed"
    },
    "tags": []
   },
   "outputs": [
    {
     "data": {
      "text/plain": [
       "0.7925"
      ]
     },
     "execution_count": 33,
     "metadata": {},
     "output_type": "execute_result"
    }
   ],
   "source": [
    "accuracy_score(y_test,y_pred)"
   ]
  }
 ],
 "metadata": {
  "kaggle": {
   "accelerator": "none",
   "dataSources": [
    {
     "datasetId": 2008274,
     "sourceId": 3322096,
     "sourceType": "datasetVersion"
    }
   ],
   "dockerImageVersionId": 30732,
   "isGpuEnabled": false,
   "isInternetEnabled": true,
   "language": "python",
   "sourceType": "notebook"
  },
  "kernelspec": {
   "display_name": "Python 3 (ipykernel)",
   "language": "python",
   "name": "python3"
  },
  "language_info": {
   "codemirror_mode": {
    "name": "ipython",
    "version": 3
   },
   "file_extension": ".py",
   "mimetype": "text/x-python",
   "name": "python",
   "nbconvert_exporter": "python",
   "pygments_lexer": "ipython3",
   "version": "3.10.9"
  },
  "papermill": {
   "default_parameters": {},
   "duration": 57.210368,
   "end_time": "2024-06-22T20:38:36.400767",
   "environment_variables": {},
   "exception": null,
   "input_path": "__notebook__.ipynb",
   "output_path": "__notebook__.ipynb",
   "parameters": {},
   "start_time": "2024-06-22T20:37:39.190399",
   "version": "2.5.0"
  }
 },
 "nbformat": 4,
 "nbformat_minor": 5
}
